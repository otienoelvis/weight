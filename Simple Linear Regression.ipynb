{
 "cells": [
  {
   "cell_type": "code",
   "execution_count": 61,
   "metadata": {},
   "outputs": [],
   "source": [
    "#import packages\n",
    "import pandas as pd \n",
    "from sklearn.model_selection import train_test_split\n",
    "from sklearn.linear_model import LinearRegression\n",
    "import matplotlib.pyplot as plt"
   ]
  },
  {
   "cell_type": "markdown",
   "metadata": {},
   "source": [
    "# Load Data"
   ]
  },
  {
   "cell_type": "code",
   "execution_count": 62,
   "metadata": {},
   "outputs": [
    {
     "name": "stdout",
     "output_type": "stream",
     "text": [
      "   Height [feet]  Weight [Kg]\n",
      "0            2.1         14.2\n",
      "1            2.2          9.8\n",
      "2            2.6         21.4\n",
      "3            2.9         18.3\n",
      "4            3.0         38.5\n"
     ]
    }
   ],
   "source": [
    "dataset = pd.read_csv('weight_data.csv')\n",
    "x = dataset.iloc[:,:-1].values\n",
    "y = dataset.iloc[:,1].values\n",
    "print(dataset.head())"
   ]
  },
  {
   "cell_type": "markdown",
   "metadata": {},
   "source": [
    "# split data (train data and test data)"
   ]
  },
  {
   "cell_type": "code",
   "execution_count": 63,
   "metadata": {},
   "outputs": [
    {
     "name": "stdout",
     "output_type": "stream",
     "text": [
      "x_train : [[4.7]\n",
      " [5.9]\n",
      " [8. ]\n",
      " [5.1]\n",
      " [6.3]\n",
      " [3.9]\n",
      " [2.1]\n",
      " [3. ]\n",
      " [5.2]\n",
      " [6.6]\n",
      " [3.7]\n",
      " [2.9]\n",
      " [7.4]\n",
      " [4. ]\n",
      " [2.6]\n",
      " [2.2]\n",
      " [6.1]\n",
      " [7.1]\n",
      " [5.4]\n",
      " [6.9]]\n",
      "x_test : [[4.2]\n",
      " [5.7]\n",
      " [3.2]\n",
      " [7.7]\n",
      " [4.5]]\n",
      "y_train : [ 52.3  91.3 116.2  71.1 122.4  32.7  14.2  38.5  65.2  94.9  25.4  18.3\n",
      " 104.   45.9  21.4   9.8 101.   99.4  88.3 107.7]\n",
      "y_test : [ 58.9  79.5  27.7 134.3  42.7]\n"
     ]
    }
   ],
   "source": [
    "x_train,x_test,y_train,y_test = train_test_split(x,y,test_size=1/5) # 20% for test data\n",
    "print(\"x_train :\",x_train)\n",
    "print(\"x_test :\",x_test)\n",
    "print(\"y_train :\",y_train)\n",
    "print(\"y_test :\",y_test)"
   ]
  },
  {
   "cell_type": "markdown",
   "metadata": {},
   "source": [
    "# plot the data"
   ]
  },
  {
   "cell_type": "code",
   "execution_count": 64,
   "metadata": {
    "scrolled": true
   },
   "outputs": [
    {
     "data": {
      "image/png": "[encoded data removed]",
      "text/plain": [
       "<Figure size 432x288 with 1 Axes>"
      ]
     },
     "metadata": {
      "needs_background": "light"
     },
     "output_type": "display_data"
    }
   ],
   "source": [
    "plt.scatter(x, y, color = 'red')\n",
    "plt.title('Simple Linear Regression')\n",
    "plt.xlabel('Height in Feets')\n",
    "plt.ylabel('Weight in KGs')\n",
    "plt.show()"
   ]
  },
  {
   "cell_type": "markdown",
   "metadata": {},
   "source": [
    "# train linear regression model"
   ]
  },
  {
   "cell_type": "code",
   "execution_count": 65,
   "metadata": {
    "scrolled": true
   },
   "outputs": [
    {
     "name": "stdout",
     "output_type": "stream",
     "text": [
      "[19.87568659]\n"
     ]
    }
   ],
   "source": [
    "#Train model\n",
    "model = LinearRegression()\n",
    "model.fit(x_train,y_train)\n",
    "\n",
    "print(model.coef_) # shows the relation between x and y"
   ]
  },
  {
   "cell_type": "markdown",
   "metadata": {},
   "source": [
    "# drawing a best fit line"
   ]
  },
  {
   "cell_type": "code",
   "execution_count": 69,
   "metadata": {},
   "outputs": [
    {
     "data": {
      "image/png": "[encoded data removed]",
      "text/plain": [
       "<Figure size 432x288 with 1 Axes>"
      ]
     },
     "metadata": {
      "needs_background": "light"
     },
     "output_type": "display_data"
    }
   ],
   "source": [
    "plt.scatter(x, y, color = 'red')\n",
    "plt.plot(x, model.predict(x), color = 'black')\n",
    "plt.title('Simple Linear Regression')\n",
    "plt.xlabel('Height in Feets')\n",
    "plt.ylabel('Weight in KGs')\n",
    "plt.show()"
   ]
  },
  {
   "cell_type": "code",
   "execution_count": 67,
   "metadata": {},
   "outputs": [],
   "source": [
    "# do predictions\n",
    "pred_result = model.predict(x_test)"
   ]
  },
  {
   "cell_type": "code",
   "execution_count": 68,
   "metadata": {},
   "outputs": [
    {
     "name": "stdout",
     "output_type": "stream",
     "text": [
      "Test height : [[4.2]\n",
      " [5.7]\n",
      " [3.2]\n",
      " [7.7]\n",
      " [4.5]]\n",
      "Predicted Weight : [ 50.99385662  80.80738651  31.11817003 120.55875969  56.9565626 ]\n"
     ]
    }
   ],
   "source": [
    "#print results\n",
    "print(\"Test height :\",x_test)\n",
    "print(\"Predicted Weight :\",pred_result)"
   ]
  },
  {
   "cell_type": "code",
   "execution_count": null,
   "metadata": {},
   "outputs": [],
   "source": []
  }
 ],
 "metadata": {
  "interpreter": {
   "hash": "3a69a8263d50b91622486b5d15f7c4331d2c5d5b60c816e53f0cc085b4cb9c3c"
  },
  "kernelspec": {
   "display_name": "base",
   "language": "python",
   "name": "python3"
  },
  "language_info": {
   "codemirror_mode": {
    "name": "ipython",
    "version": 3
   },
   "file_extension": ".py",
   "mimetype": "text/x-python",
   "name": "python",
   "nbconvert_exporter": "python",
   "pygments_lexer": "ipython3",
   "version": "3.9.7"
  }
 },
 "nbformat": 4,
 "nbformat_minor": 2
}
